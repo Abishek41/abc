{
 "cells": [
  {
   "cell_type": "raw",
   "id": "b5585897",
   "metadata": {},
   "source": [
    "ANSWER 1.)\n",
    "\n",
    "* = EXPRESSION\n",
    "-87.8 = VALUE\n",
    "- = EXPRESSION\n",
    "/ = EXPRESSION\n",
    "+ = EXPRESSION\n",
    "6 = EXPRESSION"
   ]
  },
  {
   "cell_type": "raw",
   "id": "6595f906",
   "metadata": {},
   "source": [
    "ANSWER 2.)\n",
    "\n",
    "A string is a character which remain inside the Parentheses.\n",
    "A variable is an object which the user defined and the data is being stored."
   ]
  },
  {
   "cell_type": "raw",
   "id": "27567d79",
   "metadata": {},
   "source": [
    "ANSWER 3.)\n",
    "\n",
    "In python there are 7 types of data type:\n",
    "a. integer\n",
    "b. float\n",
    "c. complex\n",
    "d. string\n",
    "e. tuple\n",
    "f. list\n",
    "g. dictionary"
   ]
  },
  {
   "cell_type": "raw",
   "id": "3d0e5cf4",
   "metadata": {},
   "source": [
    "ANSWER 4.)\n",
    "\n",
    "Expression are made of constraint, Arithmatic, Integral, Floating, relation, Logical, Bitwise.\n",
    "           An expression is a combination of operators and operands that is interpreted to produce some other value.\n",
    "      "
   ]
  },
  {
   "cell_type": "raw",
   "id": "212fa860",
   "metadata": {},
   "source": [
    "ANSWER 5.)\n",
    "\n",
    "A \"statement,\" which is just a single unit of execution and returns nothing, is different from a \"expression,\" which is a mixture of values and functions that are combined and processed by the compiler to create a new value."
   ]
  },
  {
   "cell_type": "code",
   "execution_count": 1,
   "id": "a98918a2",
   "metadata": {},
   "outputs": [
    {
     "data": {
      "text/plain": [
       "23"
      ]
     },
     "execution_count": 1,
     "metadata": {},
     "output_type": "execute_result"
    }
   ],
   "source": [
    "#ANSWER 6.\n",
    "\n",
    "bacon=22\n",
    "bacon+1\n",
    "\n"
   ]
  },
  {
   "cell_type": "raw",
   "id": "538ee405",
   "metadata": {},
   "source": [
    "#ANSWER 7.\n",
    "\n",
    "'spam'+'spamspam'\n",
    "'spam'**3"
   ]
  },
  {
   "cell_type": "raw",
   "id": "c9afac66",
   "metadata": {},
   "source": [
    "ANSWER 8.)\n",
    "\n",
    "Egg is valid variable and 100 is not beacause variable should always start with a character and can end with an integer but with out a space"
   ]
  },
  {
   "cell_type": "raw",
   "id": "dc270c4f",
   "metadata": {},
   "source": [
    "ANSWER 9.)\n",
    "\n",
    "INTEGER= int\n",
    "FLOAT = float\n",
    "STRING = it doesnt have any function. python take string as default."
   ]
  },
  {
   "cell_type": "raw",
   "id": "82de4562",
   "metadata": {},
   "source": [
    "ANSWER 10.)\n",
    "\n",
    "String and Integer can not contanate together for that we have to use a function called \"str\" to change the datatype of 99 as string. And then it can concatenate."
   ]
  }
 ],
 "metadata": {
  "kernelspec": {
   "display_name": "Python 3 (ipykernel)",
   "language": "python",
   "name": "python3"
  },
  "language_info": {
   "codemirror_mode": {
    "name": "ipython",
    "version": 3
   },
   "file_extension": ".py",
   "mimetype": "text/x-python",
   "name": "python",
   "nbconvert_exporter": "python",
   "pygments_lexer": "ipython3",
   "version": "3.9.13"
  }
 },
 "nbformat": 4,
 "nbformat_minor": 5
}
